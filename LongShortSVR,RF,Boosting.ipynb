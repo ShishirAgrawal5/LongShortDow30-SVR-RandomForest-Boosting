{
 "cells": [
  {
   "cell_type": "code",
   "execution_count": 227,
   "metadata": {},
   "outputs": [],
   "source": [
    "import pandas as pd\n",
    "import numpy as np"
   ]
  },
  {
   "cell_type": "code",
   "execution_count": 228,
   "metadata": {},
   "outputs": [],
   "source": [
    "df = pd.read_excel(r'/Users/shishiragrawal/Downloads/data1.xlsx')"
   ]
  },
  {
   "cell_type": "code",
   "execution_count": 229,
   "metadata": {},
   "outputs": [],
   "source": [
    "training1 = df[df['Date'] <= '12/31/2002']\n",
    "training1 = training1.reset_index(drop=True)\n",
    "dates1 = training1['Date']\n",
    "del training1['Date']"
   ]
  },
  {
   "cell_type": "code",
   "execution_count": 230,
   "metadata": {},
   "outputs": [],
   "source": [
    "test = df[df['Date'] > '12/31/02']\n",
    "test = test.reset_index(drop=True)\n",
    "dates_test = test['Date']\n",
    "del test['Date']"
   ]
  },
  {
   "cell_type": "code",
   "execution_count": 231,
   "metadata": {},
   "outputs": [],
   "source": [
    "dataf = []\n",
    "for columnName, columnData in training1.iteritems():\n",
    "    dataf.append(columnData)"
   ]
  },
  {
   "cell_type": "code",
   "execution_count": 232,
   "metadata": {},
   "outputs": [],
   "source": [
    "def Stacking(toBeStacked,p):\n",
    "    n=p+1\n",
    "    stackedF=pd.DataFrame()\n",
    "    temp=np.zeros(shape=(1,n))\n",
    "    for cnum in range(toBeStacked.shape[1]):\n",
    "        temp1=np.zeros(shape=(1,n))\n",
    "        for rnum in range(n,len(toBeStacked)+1):\n",
    "            temp1=np.append(temp1,[np.flip(np.array(toBeStacked.iloc[rnum-n:rnum,cnum]))],axis=0)\n",
    "        temp1=np.delete(temp1,(0),axis=0)\n",
    "        temp=np.append(temp,temp1,axis=0)\n",
    "    return(pd.DataFrame(np.delete(temp,(0),axis=0)))"
   ]
  },
  {
   "cell_type": "code",
   "execution_count": 233,
   "metadata": {},
   "outputs": [],
   "source": [
    "df = Stacking(training1, 90)"
   ]
  },
  {
   "cell_type": "code",
   "execution_count": 234,
   "metadata": {},
   "outputs": [
    {
     "data": {
      "text/plain": [
       "(116940, 91)"
      ]
     },
     "execution_count": 234,
     "metadata": {},
     "output_type": "execute_result"
    }
   ],
   "source": [
    "df.shape"
   ]
  },
  {
   "cell_type": "code",
   "execution_count": 235,
   "metadata": {},
   "outputs": [],
   "source": [
    "finalDataframe = pd.DataFrame()\n",
    "for i in range(0,29):\n",
    "    dummyframes = pd.DataFrame(data = 0, index=range(3898),columns=range(28))\n",
    "    dummyframes.insert(i, \"DV\"+str(i), 1)\n",
    "    finalDataframe = finalDataframe.append(dummyframes)"
   ]
  },
  {
   "cell_type": "code",
   "execution_count": 236,
   "metadata": {},
   "outputs": [],
   "source": [
    "dvAllZero = pd.DataFrame(data = 0, index=range(3898),columns=range(28))"
   ]
  },
  {
   "cell_type": "code",
   "execution_count": 237,
   "metadata": {},
   "outputs": [],
   "source": [
    "finalDataframe = finalDataframe.append(dvAllZero, ignore_index=True)"
   ]
  },
  {
   "cell_type": "code",
   "execution_count": 238,
   "metadata": {},
   "outputs": [],
   "source": [
    "finalDataframe.drop(finalDataframe.iloc[:, 0:28], inplace = True, axis = 1) "
   ]
  },
  {
   "cell_type": "code",
   "execution_count": 239,
   "metadata": {},
   "outputs": [],
   "source": [
    "finalDataframe = finalDataframe.fillna(0)"
   ]
  },
  {
   "cell_type": "code",
   "execution_count": 240,
   "metadata": {},
   "outputs": [],
   "source": [
    "horizontalStack = pd.concat([df, finalDataframe], axis=1)"
   ]
  },
  {
   "cell_type": "code",
   "execution_count": 241,
   "metadata": {},
   "outputs": [],
   "source": [
    "X = horizontalStack.iloc[:,1:119].values.astype(float)\n",
    "y = horizontalStack.iloc[:,0].values.astype(float)"
   ]
  },
  {
   "cell_type": "code",
   "execution_count": 242,
   "metadata": {},
   "outputs": [],
   "source": [
    "testData = Stacking(test, 90)"
   ]
  },
  {
   "cell_type": "code",
   "execution_count": 243,
   "metadata": {},
   "outputs": [],
   "source": [
    "finalDataframe = pd.DataFrame()\n",
    "for i in range(0,29):\n",
    "    dummyframes = pd.DataFrame(data = 0, index=range(1443),columns=range(28))\n",
    "    dummyframes.insert(i, \"DV\"+str(i), 1)\n",
    "    finalDataframe = finalDataframe.append(dummyframes)\n",
    "dvAllZero = pd.DataFrame(data = 0, index=range(1443),columns=range(28))\n",
    "finalDataframe = finalDataframe.append(dvAllZero, ignore_index=True)\n",
    "finalDataframe.drop(finalDataframe.iloc[:, 0:28], inplace = True, axis = 1)\n",
    "finalDataframe = finalDataframe.fillna(0)\n",
    "testHorizontalStack = pd.concat([testData, finalDataframe], axis=1)"
   ]
  },
  {
   "cell_type": "code",
   "execution_count": 245,
   "metadata": {},
   "outputs": [],
   "source": [
    "# Support Vector Regression\n",
    "from sklearn.svm import SVR\n",
    "from sklearn.model_selection import TimeSeriesSplit\n",
    "from sklearn.model_selection import GridSearchCV\n",
    "from sklearn import svm\n",
    "\n",
    "def svc_param_selection(X, y):\n",
    "    tscv = TimeSeriesSplit(n_splits=5)\n",
    "    Cs = [0.001, 0.01, 0.1, 1, 10]\n",
    "    gammas = [0.001, 0.01, 0.1, 1]\n",
    "    param_grid = {'C': Cs, 'gamma' : gammas}\n",
    "    grid_search = GridSearchCV(svm.SVR(kernel='rbf'), param_grid, cv=tscv)\n",
    "    grid_search.fit(X,y)\n",
    "    grid_search.best_params_\n",
    "    return grid_search.best_params_"
   ]
  },
  {
   "cell_type": "code",
   "execution_count": 246,
   "metadata": {},
   "outputs": [
    {
     "data": {
      "text/plain": [
       "{'C': 0.1, 'gamma': 1}"
      ]
     },
     "execution_count": 246,
     "metadata": {},
     "output_type": "execute_result"
    }
   ],
   "source": [
    "svc_param_selection(X,y)"
   ]
  },
  {
   "cell_type": "code",
   "execution_count": 247,
   "metadata": {},
   "outputs": [
    {
     "data": {
      "text/plain": [
       "SVR(C=0.1, cache_size=200, coef0=0.0, degree=3, epsilon=0.1, gamma=1.0,\n",
       "  kernel='rbf', max_iter=-1, shrinking=True, tol=0.001, verbose=False)"
      ]
     },
     "execution_count": 247,
     "metadata": {},
     "output_type": "execute_result"
    }
   ],
   "source": [
    "regressor = SVR(kernel='rbf',gamma=1.0,C=0.1)\n",
    "regressor.fit(X,y)"
   ]
  },
  {
   "cell_type": "code",
   "execution_count": 248,
   "metadata": {},
   "outputs": [],
   "source": [
    "X2 = testHorizontalStack.iloc[:,1:119].values.astype(float)"
   ]
  },
  {
   "cell_type": "code",
   "execution_count": 249,
   "metadata": {},
   "outputs": [],
   "source": [
    "svm_pred = regressor.predict(X2)"
   ]
  },
  {
   "cell_type": "code",
   "execution_count": 250,
   "metadata": {},
   "outputs": [
    {
     "data": {
      "text/plain": [
       "RandomForestRegressor(bootstrap=True, criterion='mse', max_depth=None,\n",
       "           max_features='auto', max_leaf_nodes=None,\n",
       "           min_impurity_decrease=0.0, min_impurity_split=None,\n",
       "           min_samples_leaf=1, min_samples_split=2,\n",
       "           min_weight_fraction_leaf=0.0, n_estimators=5, n_jobs=None,\n",
       "           oob_score=False, random_state=0, verbose=0, warm_start=False)"
      ]
     },
     "execution_count": 250,
     "metadata": {},
     "output_type": "execute_result"
    }
   ],
   "source": [
    "#random forest\n",
    "\n",
    "from sklearn.ensemble import RandomForestRegressor \n",
    "regressor = RandomForestRegressor(n_estimators =5, random_state = 0) \n",
    "regressor.fit(X,y)\n"
   ]
  },
  {
   "cell_type": "code",
   "execution_count": 251,
   "metadata": {},
   "outputs": [],
   "source": [
    "rf_pred = regressor.predict(X2)"
   ]
  },
  {
   "cell_type": "code",
   "execution_count": 255,
   "metadata": {},
   "outputs": [
    {
     "data": {
      "text/plain": [
       "({'max_depth': 13, 'min_samples_split': 200, 'n_estimators': 20},\n",
       " 0.015864825419892148)"
      ]
     },
     "execution_count": 255,
     "metadata": {},
     "output_type": "execute_result"
    }
   ],
   "source": [
    "#Boosting\n",
    "from sklearn.ensemble import GradientBoostingRegressor\n",
    "tscv = TimeSeriesSplit(n_splits=2)\n",
    "param_test = {'max_depth':range(5,16,2), 'min_samples_split':range(200,1001,200),'n_estimators':range(20,81,100)}\n",
    "\n",
    "gsearch =GridSearchCV(GradientBoostingRegressor(learning_rate=0.1,warm_start=True), param_grid=param_test, cv=tscv)\n",
    "gsearch.fit(X,y)\n",
    "gsearch.best_params_, gsearch.best_score_"
   ]
  },
  {
   "cell_type": "code",
   "execution_count": 257,
   "metadata": {},
   "outputs": [],
   "source": [
    "Gbre=GradientBoostingRegressor(learning_rate=0.1,n_estimators=20, max_depth=13, warm_start=True)\n",
    "Gbre.fit(X,y)\n",
    "gbre_pred = Gbre.predict(X2)"
   ]
  },
  {
   "cell_type": "code",
   "execution_count": 258,
   "metadata": {},
   "outputs": [],
   "source": [
    "Y2 = testHorizontalStack.iloc[:,0].values.astype(float)"
   ]
  },
  {
   "cell_type": "code",
   "execution_count": 259,
   "metadata": {},
   "outputs": [],
   "source": [
    "from sklearn.metrics import mean_squared_error\n",
    "\n",
    "mse_scr = mean_squared_error(Y2, svm_pred)"
   ]
  },
  {
   "cell_type": "code",
   "execution_count": 260,
   "metadata": {},
   "outputs": [],
   "source": [
    "mse_rf = mean_squared_error(Y2, rf_pred)"
   ]
  },
  {
   "cell_type": "code",
   "execution_count": 261,
   "metadata": {},
   "outputs": [],
   "source": [
    "mse_gbre = mean_squared_error(Y2, gbre_pred)"
   ]
  },
  {
   "cell_type": "code",
   "execution_count": 262,
   "metadata": {},
   "outputs": [
    {
     "name": "stdout",
     "output_type": "stream",
     "text": [
      "(0.0006850954521405416, 0.0005884870830034478, 0.0005008503530253665)\n"
     ]
    }
   ],
   "source": [
    "print(mse_scr,mse_rf,mse_gbre)"
   ]
  },
  {
   "cell_type": "code",
   "execution_count": 263,
   "metadata": {},
   "outputs": [],
   "source": [
    "vec=gbre_pred\n",
    "vecdf=[]\n",
    "for i in range(0,1443):\n",
    "    temp=vec[::1443,]\n",
    "    vecdf.append(temp)\n",
    "    vec=np.delete(vec,0)\n",
    "vec_df_results=pd.DataFrame(vecdf)"
   ]
  },
  {
   "cell_type": "code",
   "execution_count": 264,
   "metadata": {},
   "outputs": [
    {
     "data": {
      "text/plain": [
       "array([ 0.01822509, -0.00163188,  0.01227483, ..., -0.00912399,\n",
       "        0.0134445 , -0.00117275])"
      ]
     },
     "execution_count": 264,
     "metadata": {},
     "output_type": "execute_result"
    }
   ],
   "source": [
    "rf_pred"
   ]
  },
  {
   "cell_type": "code",
   "execution_count": 265,
   "metadata": {},
   "outputs": [],
   "source": [
    "vec=Y2\n",
    "vecdf=[]\n",
    "for i in range(0,1443):\n",
    "    temp=vec[::1443,]\n",
    "    vecdf.append(temp)\n",
    "    vec=np.delete(vec,0)\n",
    "vec_df_true=pd.DataFrame(vecdf)"
   ]
  },
  {
   "cell_type": "code",
   "execution_count": 266,
   "metadata": {},
   "outputs": [],
   "source": [
    "vec_df_results.columns=test.columns.values"
   ]
  },
  {
   "cell_type": "code",
   "execution_count": 267,
   "metadata": {},
   "outputs": [],
   "source": [
    "vec_df_true.columns=test.columns.values"
   ]
  },
  {
   "cell_type": "code",
   "execution_count": 268,
   "metadata": {},
   "outputs": [],
   "source": [
    "df2 = vec_df_results\n",
    "nlargest = 5\n",
    "order = np.argsort(-df2.values, axis=1)[:, :nlargest]\n",
    "result2 = pd.DataFrame(df2.columns[order], \n",
    "                      columns=['top{}'.format(i) for i in range(1, nlargest+1)],\n",
    "                      index=df2.index)"
   ]
  },
  {
   "cell_type": "code",
   "execution_count": 269,
   "metadata": {},
   "outputs": [],
   "source": [
    "df2 = vec_df_results\n",
    "nSmallest = 5\n",
    "order = np.argsort(df2.values, axis=1)[:, :nSmallest]\n",
    "result3 = pd.DataFrame(df2.columns[order], \n",
    "                      columns=['bottom{}'.format(i) for i in range(1, nSmallest+1)],\n",
    "                      index=df2.index)"
   ]
  },
  {
   "cell_type": "code",
   "execution_count": 270,
   "metadata": {},
   "outputs": [
    {
     "data": {
      "text/html": [
       "<div>\n",
       "<style scoped>\n",
       "    .dataframe tbody tr th:only-of-type {\n",
       "        vertical-align: middle;\n",
       "    }\n",
       "\n",
       "    .dataframe tbody tr th {\n",
       "        vertical-align: top;\n",
       "    }\n",
       "\n",
       "    .dataframe thead th {\n",
       "        text-align: right;\n",
       "    }\n",
       "</style>\n",
       "<table border=\"1\" class=\"dataframe\">\n",
       "  <thead>\n",
       "    <tr style=\"text-align: right;\">\n",
       "      <th></th>\n",
       "      <th>top1</th>\n",
       "      <th>top2</th>\n",
       "      <th>top3</th>\n",
       "      <th>top4</th>\n",
       "      <th>top5</th>\n",
       "      <th>bottom1</th>\n",
       "      <th>bottom2</th>\n",
       "      <th>bottom3</th>\n",
       "      <th>bottom4</th>\n",
       "      <th>bottom5</th>\n",
       "    </tr>\n",
       "  </thead>\n",
       "  <tbody>\n",
       "    <tr>\n",
       "      <th>0</th>\n",
       "      <td>T</td>\n",
       "      <td>MRK</td>\n",
       "      <td>C</td>\n",
       "      <td>BAC</td>\n",
       "      <td>HPQ</td>\n",
       "      <td>INTC</td>\n",
       "      <td>BA</td>\n",
       "      <td>DIS</td>\n",
       "      <td>AIG</td>\n",
       "      <td>AXP</td>\n",
       "    </tr>\n",
       "    <tr>\n",
       "      <th>1</th>\n",
       "      <td>T</td>\n",
       "      <td>MRK</td>\n",
       "      <td>JNJ</td>\n",
       "      <td>PG</td>\n",
       "      <td>AIG</td>\n",
       "      <td>WMT</td>\n",
       "      <td>MCD</td>\n",
       "      <td>AXP</td>\n",
       "      <td>BA</td>\n",
       "      <td>CAT</td>\n",
       "    </tr>\n",
       "    <tr>\n",
       "      <th>2</th>\n",
       "      <td>MSFT</td>\n",
       "      <td>BA</td>\n",
       "      <td>AIG</td>\n",
       "      <td>GE</td>\n",
       "      <td>HPQ</td>\n",
       "      <td>INTC</td>\n",
       "      <td>T</td>\n",
       "      <td>IBM</td>\n",
       "      <td>KO</td>\n",
       "      <td>JPM</td>\n",
       "    </tr>\n",
       "    <tr>\n",
       "      <th>3</th>\n",
       "      <td>GM</td>\n",
       "      <td>MSFT</td>\n",
       "      <td>CAT</td>\n",
       "      <td>AXP</td>\n",
       "      <td>DIS</td>\n",
       "      <td>AA</td>\n",
       "      <td>INTC</td>\n",
       "      <td>AIG</td>\n",
       "      <td>MCD</td>\n",
       "      <td>VZ</td>\n",
       "    </tr>\n",
       "    <tr>\n",
       "      <th>4</th>\n",
       "      <td>AA</td>\n",
       "      <td>T</td>\n",
       "      <td>JNJ</td>\n",
       "      <td>WMT</td>\n",
       "      <td>XOM</td>\n",
       "      <td>DIS</td>\n",
       "      <td>MCD</td>\n",
       "      <td>PG</td>\n",
       "      <td>AIG</td>\n",
       "      <td>BA</td>\n",
       "    </tr>\n",
       "  </tbody>\n",
       "</table>\n",
       "</div>"
      ],
      "text/plain": [
       "   top1  top2 top3 top4 top5 bottom1 bottom2 bottom3 bottom4 bottom5\n",
       "0     T   MRK    C  BAC  HPQ    INTC      BA     DIS     AIG     AXP\n",
       "1     T   MRK  JNJ   PG  AIG     WMT     MCD     AXP      BA     CAT\n",
       "2  MSFT    BA  AIG   GE  HPQ    INTC       T     IBM      KO     JPM\n",
       "3    GM  MSFT  CAT  AXP  DIS      AA    INTC     AIG     MCD      VZ\n",
       "4    AA     T  JNJ  WMT  XOM     DIS     MCD      PG     AIG      BA"
      ]
     },
     "execution_count": 270,
     "metadata": {},
     "output_type": "execute_result"
    }
   ],
   "source": [
    "resulting=pd.concat([result2,result3], axis=1)\n",
    "resulting.head(5)"
   ]
  },
  {
   "cell_type": "code",
   "execution_count": 271,
   "metadata": {},
   "outputs": [],
   "source": [
    "pnl=[]\n",
    "port=1000000\n",
    "for i in range(0,1443):\n",
    "    perstock=0.1*port\n",
    "    max_5=np.exp(np.array(vec_df_true.loc[i,np.array(result2.iloc[i])]))-1\n",
    "    min_5=np.exp(np.array(vec_df_true.loc[i,np.array(result3.iloc[i])]))-1\n",
    "    daily_p=0\n",
    "    daily_p=sum(perstock*max_5)-sum(perstock*min_5)\n",
    "    port=port+daily_p-daily_p*0.0005\n",
    "    pnl.append(port)"
   ]
  },
  {
   "cell_type": "code",
   "execution_count": 272,
   "metadata": {},
   "outputs": [
    {
     "name": "stdout",
     "output_type": "stream",
     "text": [
      "('Final portfolio value', 1788319.2473158326)\n"
     ]
    }
   ],
   "source": [
    "print('Final portfolio value',port)"
   ]
  },
  {
   "cell_type": "code",
   "execution_count": 273,
   "metadata": {},
   "outputs": [
    {
     "data": {
      "image/png": "[encoded data removed]",
      "text/plain": [
       "<Figure size 432x288 with 1 Axes>"
      ]
     },
     "metadata": {
      "needs_background": "light"
     },
     "output_type": "display_data"
    }
   ],
   "source": [
    "import matplotlib.pyplot as plt\n",
    "dates_test2=np.delete(np.array(dates_test),range(0,90))\n",
    "plt.plot(dates_test2,pnl)\n",
    "plt.title('Portfolio PnL')\n",
    "plt.ylabel('PNL')\n",
    "plt.xlabel('Date')\n",
    "plt.show()"
   ]
  },
  {
   "cell_type": "code",
   "execution_count": 274,
   "metadata": {},
   "outputs": [
    {
     "data": {
      "text/html": [
       "<div>\n",
       "<style scoped>\n",
       "    .dataframe tbody tr th:only-of-type {\n",
       "        vertical-align: middle;\n",
       "    }\n",
       "\n",
       "    .dataframe tbody tr th {\n",
       "        vertical-align: top;\n",
       "    }\n",
       "\n",
       "    .dataframe thead th {\n",
       "        text-align: right;\n",
       "    }\n",
       "</style>\n",
       "<table border=\"1\" class=\"dataframe\">\n",
       "  <thead>\n",
       "    <tr style=\"text-align: right;\">\n",
       "      <th></th>\n",
       "      <th>0</th>\n",
       "      <th>1</th>\n",
       "      <th>2</th>\n",
       "      <th>3</th>\n",
       "      <th>4</th>\n",
       "      <th>5</th>\n",
       "      <th>6</th>\n",
       "      <th>7</th>\n",
       "      <th>8</th>\n",
       "      <th>9</th>\n",
       "      <th>...</th>\n",
       "      <th>DV26</th>\n",
       "      <th>DV27</th>\n",
       "      <th>DV28</th>\n",
       "      <th>DV3</th>\n",
       "      <th>DV4</th>\n",
       "      <th>DV5</th>\n",
       "      <th>DV6</th>\n",
       "      <th>DV7</th>\n",
       "      <th>DV8</th>\n",
       "      <th>DV9</th>\n",
       "    </tr>\n",
       "  </thead>\n",
       "  <tbody>\n",
       "    <tr>\n",
       "      <th>0</th>\n",
       "      <td>0.011429</td>\n",
       "      <td>0.000000</td>\n",
       "      <td>0.009238</td>\n",
       "      <td>-0.002317</td>\n",
       "      <td>-0.002312</td>\n",
       "      <td>-0.004608</td>\n",
       "      <td>0.039865</td>\n",
       "      <td>0.024214</td>\n",
       "      <td>-0.028988</td>\n",
       "      <td>-0.016529</td>\n",
       "      <td>...</td>\n",
       "      <td>0.0</td>\n",
       "      <td>0.0</td>\n",
       "      <td>0.0</td>\n",
       "      <td>0.0</td>\n",
       "      <td>0.0</td>\n",
       "      <td>0.0</td>\n",
       "      <td>0.0</td>\n",
       "      <td>0.0</td>\n",
       "      <td>0.0</td>\n",
       "      <td>0.0</td>\n",
       "    </tr>\n",
       "    <tr>\n",
       "      <th>1</th>\n",
       "      <td>0.037909</td>\n",
       "      <td>0.011429</td>\n",
       "      <td>0.000000</td>\n",
       "      <td>0.009238</td>\n",
       "      <td>-0.002317</td>\n",
       "      <td>-0.002312</td>\n",
       "      <td>-0.004608</td>\n",
       "      <td>0.039865</td>\n",
       "      <td>0.024214</td>\n",
       "      <td>-0.028988</td>\n",
       "      <td>...</td>\n",
       "      <td>0.0</td>\n",
       "      <td>0.0</td>\n",
       "      <td>0.0</td>\n",
       "      <td>0.0</td>\n",
       "      <td>0.0</td>\n",
       "      <td>0.0</td>\n",
       "      <td>0.0</td>\n",
       "      <td>0.0</td>\n",
       "      <td>0.0</td>\n",
       "      <td>0.0</td>\n",
       "    </tr>\n",
       "    <tr>\n",
       "      <th>2</th>\n",
       "      <td>-0.008791</td>\n",
       "      <td>0.037909</td>\n",
       "      <td>0.011429</td>\n",
       "      <td>0.000000</td>\n",
       "      <td>0.009238</td>\n",
       "      <td>-0.002317</td>\n",
       "      <td>-0.002312</td>\n",
       "      <td>-0.004608</td>\n",
       "      <td>0.039865</td>\n",
       "      <td>0.024214</td>\n",
       "      <td>...</td>\n",
       "      <td>0.0</td>\n",
       "      <td>0.0</td>\n",
       "      <td>0.0</td>\n",
       "      <td>0.0</td>\n",
       "      <td>0.0</td>\n",
       "      <td>0.0</td>\n",
       "      <td>0.0</td>\n",
       "      <td>0.0</td>\n",
       "      <td>0.0</td>\n",
       "      <td>0.0</td>\n",
       "    </tr>\n",
       "    <tr>\n",
       "      <th>3</th>\n",
       "      <td>-0.006645</td>\n",
       "      <td>-0.008791</td>\n",
       "      <td>0.037909</td>\n",
       "      <td>0.011429</td>\n",
       "      <td>0.000000</td>\n",
       "      <td>0.009238</td>\n",
       "      <td>-0.002317</td>\n",
       "      <td>-0.002312</td>\n",
       "      <td>-0.004608</td>\n",
       "      <td>0.039865</td>\n",
       "      <td>...</td>\n",
       "      <td>0.0</td>\n",
       "      <td>0.0</td>\n",
       "      <td>0.0</td>\n",
       "      <td>0.0</td>\n",
       "      <td>0.0</td>\n",
       "      <td>0.0</td>\n",
       "      <td>0.0</td>\n",
       "      <td>0.0</td>\n",
       "      <td>0.0</td>\n",
       "      <td>0.0</td>\n",
       "    </tr>\n",
       "    <tr>\n",
       "      <th>4</th>\n",
       "      <td>0.015436</td>\n",
       "      <td>-0.006645</td>\n",
       "      <td>-0.008791</td>\n",
       "      <td>0.037909</td>\n",
       "      <td>0.011429</td>\n",
       "      <td>0.000000</td>\n",
       "      <td>0.009238</td>\n",
       "      <td>-0.002317</td>\n",
       "      <td>-0.002312</td>\n",
       "      <td>-0.004608</td>\n",
       "      <td>...</td>\n",
       "      <td>0.0</td>\n",
       "      <td>0.0</td>\n",
       "      <td>0.0</td>\n",
       "      <td>0.0</td>\n",
       "      <td>0.0</td>\n",
       "      <td>0.0</td>\n",
       "      <td>0.0</td>\n",
       "      <td>0.0</td>\n",
       "      <td>0.0</td>\n",
       "      <td>0.0</td>\n",
       "    </tr>\n",
       "  </tbody>\n",
       "</table>\n",
       "<p>5 rows × 120 columns</p>\n",
       "</div>"
      ],
      "text/plain": [
       "          0         1         2         3         4         5         6  \\\n",
       "0  0.011429  0.000000  0.009238 -0.002317 -0.002312 -0.004608  0.039865   \n",
       "1  0.037909  0.011429  0.000000  0.009238 -0.002317 -0.002312 -0.004608   \n",
       "2 -0.008791  0.037909  0.011429  0.000000  0.009238 -0.002317 -0.002312   \n",
       "3 -0.006645 -0.008791  0.037909  0.011429  0.000000  0.009238 -0.002317   \n",
       "4  0.015436 -0.006645 -0.008791  0.037909  0.011429  0.000000  0.009238   \n",
       "\n",
       "          7         8         9  ...  DV26  DV27  DV28  DV3  DV4  DV5  DV6  \\\n",
       "0  0.024214 -0.028988 -0.016529  ...   0.0   0.0   0.0  0.0  0.0  0.0  0.0   \n",
       "1  0.039865  0.024214 -0.028988  ...   0.0   0.0   0.0  0.0  0.0  0.0  0.0   \n",
       "2 -0.004608  0.039865  0.024214  ...   0.0   0.0   0.0  0.0  0.0  0.0  0.0   \n",
       "3 -0.002312 -0.004608  0.039865  ...   0.0   0.0   0.0  0.0  0.0  0.0  0.0   \n",
       "4 -0.002317 -0.002312 -0.004608  ...   0.0   0.0   0.0  0.0  0.0  0.0  0.0   \n",
       "\n",
       "   DV7  DV8  DV9  \n",
       "0  0.0  0.0  0.0  \n",
       "1  0.0  0.0  0.0  \n",
       "2  0.0  0.0  0.0  \n",
       "3  0.0  0.0  0.0  \n",
       "4  0.0  0.0  0.0  \n",
       "\n",
       "[5 rows x 120 columns]"
      ]
     },
     "execution_count": 274,
     "metadata": {},
     "output_type": "execute_result"
    }
   ],
   "source": [
    "horizontalStack.head()"
   ]
  },
  {
   "cell_type": "code",
   "execution_count": 275,
   "metadata": {},
   "outputs": [
    {
     "data": {
      "text/html": [
       "<div>\n",
       "<style scoped>\n",
       "    .dataframe tbody tr th:only-of-type {\n",
       "        vertical-align: middle;\n",
       "    }\n",
       "\n",
       "    .dataframe tbody tr th {\n",
       "        vertical-align: top;\n",
       "    }\n",
       "\n",
       "    .dataframe thead th {\n",
       "        text-align: right;\n",
       "    }\n",
       "</style>\n",
       "<table border=\"1\" class=\"dataframe\">\n",
       "  <thead>\n",
       "    <tr style=\"text-align: right;\">\n",
       "      <th></th>\n",
       "      <th>0</th>\n",
       "      <th>1</th>\n",
       "      <th>2</th>\n",
       "      <th>3</th>\n",
       "      <th>4</th>\n",
       "      <th>5</th>\n",
       "      <th>6</th>\n",
       "      <th>7</th>\n",
       "      <th>8</th>\n",
       "      <th>9</th>\n",
       "      <th>...</th>\n",
       "      <th>DV26</th>\n",
       "      <th>DV27</th>\n",
       "      <th>DV28</th>\n",
       "      <th>DV3</th>\n",
       "      <th>DV4</th>\n",
       "      <th>DV5</th>\n",
       "      <th>DV6</th>\n",
       "      <th>DV7</th>\n",
       "      <th>DV8</th>\n",
       "      <th>DV9</th>\n",
       "    </tr>\n",
       "  </thead>\n",
       "  <tbody>\n",
       "    <tr>\n",
       "      <th>count</th>\n",
       "      <td>116940.000000</td>\n",
       "      <td>116940.000000</td>\n",
       "      <td>116940.000000</td>\n",
       "      <td>116940.000000</td>\n",
       "      <td>116940.000000</td>\n",
       "      <td>116940.000000</td>\n",
       "      <td>116940.000000</td>\n",
       "      <td>116940.000000</td>\n",
       "      <td>116940.000000</td>\n",
       "      <td>116940.000000</td>\n",
       "      <td>...</td>\n",
       "      <td>116940.000000</td>\n",
       "      <td>116940.000000</td>\n",
       "      <td>116940.000000</td>\n",
       "      <td>116940.000000</td>\n",
       "      <td>116940.000000</td>\n",
       "      <td>116940.000000</td>\n",
       "      <td>116940.000000</td>\n",
       "      <td>116940.000000</td>\n",
       "      <td>116940.000000</td>\n",
       "      <td>116940.000000</td>\n",
       "    </tr>\n",
       "    <tr>\n",
       "      <th>mean</th>\n",
       "      <td>0.000495</td>\n",
       "      <td>0.000495</td>\n",
       "      <td>0.000492</td>\n",
       "      <td>0.000494</td>\n",
       "      <td>0.000496</td>\n",
       "      <td>0.000499</td>\n",
       "      <td>0.000499</td>\n",
       "      <td>0.000497</td>\n",
       "      <td>0.000499</td>\n",
       "      <td>0.000504</td>\n",
       "      <td>...</td>\n",
       "      <td>0.033333</td>\n",
       "      <td>0.033333</td>\n",
       "      <td>0.033333</td>\n",
       "      <td>0.033333</td>\n",
       "      <td>0.033333</td>\n",
       "      <td>0.033333</td>\n",
       "      <td>0.033333</td>\n",
       "      <td>0.033333</td>\n",
       "      <td>0.033333</td>\n",
       "      <td>0.033333</td>\n",
       "    </tr>\n",
       "    <tr>\n",
       "      <th>std</th>\n",
       "      <td>0.020534</td>\n",
       "      <td>0.020534</td>\n",
       "      <td>0.020534</td>\n",
       "      <td>0.020533</td>\n",
       "      <td>0.020534</td>\n",
       "      <td>0.020534</td>\n",
       "      <td>0.020534</td>\n",
       "      <td>0.020533</td>\n",
       "      <td>0.020534</td>\n",
       "      <td>0.020534</td>\n",
       "      <td>...</td>\n",
       "      <td>0.179506</td>\n",
       "      <td>0.179506</td>\n",
       "      <td>0.179506</td>\n",
       "      <td>0.179506</td>\n",
       "      <td>0.179506</td>\n",
       "      <td>0.179506</td>\n",
       "      <td>0.179506</td>\n",
       "      <td>0.179506</td>\n",
       "      <td>0.179506</td>\n",
       "      <td>0.179506</td>\n",
       "    </tr>\n",
       "    <tr>\n",
       "      <th>min</th>\n",
       "      <td>-0.379490</td>\n",
       "      <td>-0.379490</td>\n",
       "      <td>-0.379490</td>\n",
       "      <td>-0.379490</td>\n",
       "      <td>-0.379490</td>\n",
       "      <td>-0.379490</td>\n",
       "      <td>-0.379490</td>\n",
       "      <td>-0.379490</td>\n",
       "      <td>-0.379490</td>\n",
       "      <td>-0.379490</td>\n",
       "      <td>...</td>\n",
       "      <td>0.000000</td>\n",
       "      <td>0.000000</td>\n",
       "      <td>0.000000</td>\n",
       "      <td>0.000000</td>\n",
       "      <td>0.000000</td>\n",
       "      <td>0.000000</td>\n",
       "      <td>0.000000</td>\n",
       "      <td>0.000000</td>\n",
       "      <td>0.000000</td>\n",
       "      <td>0.000000</td>\n",
       "    </tr>\n",
       "    <tr>\n",
       "      <th>25%</th>\n",
       "      <td>-0.010234</td>\n",
       "      <td>-0.010236</td>\n",
       "      <td>-0.010242</td>\n",
       "      <td>-0.010239</td>\n",
       "      <td>-0.010237</td>\n",
       "      <td>-0.010234</td>\n",
       "      <td>-0.010236</td>\n",
       "      <td>-0.010236</td>\n",
       "      <td>-0.010236</td>\n",
       "      <td>-0.010230</td>\n",
       "      <td>...</td>\n",
       "      <td>0.000000</td>\n",
       "      <td>0.000000</td>\n",
       "      <td>0.000000</td>\n",
       "      <td>0.000000</td>\n",
       "      <td>0.000000</td>\n",
       "      <td>0.000000</td>\n",
       "      <td>0.000000</td>\n",
       "      <td>0.000000</td>\n",
       "      <td>0.000000</td>\n",
       "      <td>0.000000</td>\n",
       "    </tr>\n",
       "    <tr>\n",
       "      <th>50%</th>\n",
       "      <td>0.000000</td>\n",
       "      <td>0.000000</td>\n",
       "      <td>0.000000</td>\n",
       "      <td>0.000000</td>\n",
       "      <td>0.000000</td>\n",
       "      <td>0.000000</td>\n",
       "      <td>0.000000</td>\n",
       "      <td>0.000000</td>\n",
       "      <td>0.000000</td>\n",
       "      <td>0.000000</td>\n",
       "      <td>...</td>\n",
       "      <td>0.000000</td>\n",
       "      <td>0.000000</td>\n",
       "      <td>0.000000</td>\n",
       "      <td>0.000000</td>\n",
       "      <td>0.000000</td>\n",
       "      <td>0.000000</td>\n",
       "      <td>0.000000</td>\n",
       "      <td>0.000000</td>\n",
       "      <td>0.000000</td>\n",
       "      <td>0.000000</td>\n",
       "    </tr>\n",
       "    <tr>\n",
       "      <th>75%</th>\n",
       "      <td>0.011234</td>\n",
       "      <td>0.011234</td>\n",
       "      <td>0.011227</td>\n",
       "      <td>0.011228</td>\n",
       "      <td>0.011233</td>\n",
       "      <td>0.011236</td>\n",
       "      <td>0.011236</td>\n",
       "      <td>0.011232</td>\n",
       "      <td>0.011236</td>\n",
       "      <td>0.011236</td>\n",
       "      <td>...</td>\n",
       "      <td>0.000000</td>\n",
       "      <td>0.000000</td>\n",
       "      <td>0.000000</td>\n",
       "      <td>0.000000</td>\n",
       "      <td>0.000000</td>\n",
       "      <td>0.000000</td>\n",
       "      <td>0.000000</td>\n",
       "      <td>0.000000</td>\n",
       "      <td>0.000000</td>\n",
       "      <td>0.000000</td>\n",
       "    </tr>\n",
       "    <tr>\n",
       "      <th>max</th>\n",
       "      <td>0.226528</td>\n",
       "      <td>0.226528</td>\n",
       "      <td>0.226528</td>\n",
       "      <td>0.226528</td>\n",
       "      <td>0.226528</td>\n",
       "      <td>0.226528</td>\n",
       "      <td>0.226528</td>\n",
       "      <td>0.226528</td>\n",
       "      <td>0.226528</td>\n",
       "      <td>0.226528</td>\n",
       "      <td>...</td>\n",
       "      <td>1.000000</td>\n",
       "      <td>1.000000</td>\n",
       "      <td>1.000000</td>\n",
       "      <td>1.000000</td>\n",
       "      <td>1.000000</td>\n",
       "      <td>1.000000</td>\n",
       "      <td>1.000000</td>\n",
       "      <td>1.000000</td>\n",
       "      <td>1.000000</td>\n",
       "      <td>1.000000</td>\n",
       "    </tr>\n",
       "  </tbody>\n",
       "</table>\n",
       "<p>8 rows × 120 columns</p>\n",
       "</div>"
      ],
      "text/plain": [
       "                   0              1              2              3  \\\n",
       "count  116940.000000  116940.000000  116940.000000  116940.000000   \n",
       "mean        0.000495       0.000495       0.000492       0.000494   \n",
       "std         0.020534       0.020534       0.020534       0.020533   \n",
       "min        -0.379490      -0.379490      -0.379490      -0.379490   \n",
       "25%        -0.010234      -0.010236      -0.010242      -0.010239   \n",
       "50%         0.000000       0.000000       0.000000       0.000000   \n",
       "75%         0.011234       0.011234       0.011227       0.011228   \n",
       "max         0.226528       0.226528       0.226528       0.226528   \n",
       "\n",
       "                   4              5              6              7  \\\n",
       "count  116940.000000  116940.000000  116940.000000  116940.000000   \n",
       "mean        0.000496       0.000499       0.000499       0.000497   \n",
       "std         0.020534       0.020534       0.020534       0.020533   \n",
       "min        -0.379490      -0.379490      -0.379490      -0.379490   \n",
       "25%        -0.010237      -0.010234      -0.010236      -0.010236   \n",
       "50%         0.000000       0.000000       0.000000       0.000000   \n",
       "75%         0.011233       0.011236       0.011236       0.011232   \n",
       "max         0.226528       0.226528       0.226528       0.226528   \n",
       "\n",
       "                   8              9  ...           DV26           DV27  \\\n",
       "count  116940.000000  116940.000000  ...  116940.000000  116940.000000   \n",
       "mean        0.000499       0.000504  ...       0.033333       0.033333   \n",
       "std         0.020534       0.020534  ...       0.179506       0.179506   \n",
       "min        -0.379490      -0.379490  ...       0.000000       0.000000   \n",
       "25%        -0.010236      -0.010230  ...       0.000000       0.000000   \n",
       "50%         0.000000       0.000000  ...       0.000000       0.000000   \n",
       "75%         0.011236       0.011236  ...       0.000000       0.000000   \n",
       "max         0.226528       0.226528  ...       1.000000       1.000000   \n",
       "\n",
       "                DV28            DV3            DV4            DV5  \\\n",
       "count  116940.000000  116940.000000  116940.000000  116940.000000   \n",
       "mean        0.033333       0.033333       0.033333       0.033333   \n",
       "std         0.179506       0.179506       0.179506       0.179506   \n",
       "min         0.000000       0.000000       0.000000       0.000000   \n",
       "25%         0.000000       0.000000       0.000000       0.000000   \n",
       "50%         0.000000       0.000000       0.000000       0.000000   \n",
       "75%         0.000000       0.000000       0.000000       0.000000   \n",
       "max         1.000000       1.000000       1.000000       1.000000   \n",
       "\n",
       "                 DV6            DV7            DV8            DV9  \n",
       "count  116940.000000  116940.000000  116940.000000  116940.000000  \n",
       "mean        0.033333       0.033333       0.033333       0.033333  \n",
       "std         0.179506       0.179506       0.179506       0.179506  \n",
       "min         0.000000       0.000000       0.000000       0.000000  \n",
       "25%         0.000000       0.000000       0.000000       0.000000  \n",
       "50%         0.000000       0.000000       0.000000       0.000000  \n",
       "75%         0.000000       0.000000       0.000000       0.000000  \n",
       "max         1.000000       1.000000       1.000000       1.000000  \n",
       "\n",
       "[8 rows x 120 columns]"
      ]
     },
     "execution_count": 275,
     "metadata": {},
     "output_type": "execute_result"
    }
   ],
   "source": [
    "horizontalStack.describe()"
   ]
  },
  {
   "cell_type": "code",
   "execution_count": null,
   "metadata": {},
   "outputs": [],
   "source": []
  }
 ],
 "metadata": {
  "kernelspec": {
   "display_name": "Python 2",
   "language": "python",
   "name": "python2"
  },
  "language_info": {
   "codemirror_mode": {
    "name": "ipython",
    "version": 2
   },
   "file_extension": ".py",
   "mimetype": "text/x-python",
   "name": "python",
   "nbconvert_exporter": "python",
   "pygments_lexer": "ipython2",
   "version": "2.7.15"
  }
 },
 "nbformat": 4,
 "nbformat_minor": 2
}
